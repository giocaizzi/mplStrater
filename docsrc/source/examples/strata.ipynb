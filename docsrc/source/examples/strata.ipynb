{
 "cells": [
  {
   "cell_type": "markdown",
   "metadata": {},
   "source": [
    "# Strata objects: Legend and Column\n",
    "\n",
    "Strata is stratigraphic data.\n",
    "\n",
    "The main object of `strata` submodule is `mplStrater.strata.Column` which represents the single stratigraphic column.\n",
    "This example shows the structure of the class and how to use it.\n",
    "\n",
    "First, import all required packages and load the example dataset."
   ]
  },
  {
   "cell_type": "code",
   "execution_count": 8,
   "metadata": {},
   "outputs": [
    {
     "name": "stdout",
     "output_type": "stream",
     "text": [
      "The autoreload extension is already loaded. To reload it, use:\n",
      "  %reload_ext autoreload\n"
     ]
    }
   ],
   "source": [
    "%load_ext autoreload\n",
    "%autoreload 2\n",
    "from mplStrater.data import StrataFrame\n",
    "from mplStrater.strata import Column,Legend\n",
    "\n",
    "import pandas as pd\n",
    "import matplotlib.pyplot as plt"
   ]
  },
  {
   "cell_type": "code",
   "execution_count": 9,
   "metadata": {},
   "outputs": [
    {
     "data": {
      "text/html": [
       "<div>\n",
       "<style scoped>\n",
       "    .dataframe tbody tr th:only-of-type {\n",
       "        vertical-align: middle;\n",
       "    }\n",
       "\n",
       "    .dataframe tbody tr th {\n",
       "        vertical-align: top;\n",
       "    }\n",
       "\n",
       "    .dataframe thead th {\n",
       "        text-align: right;\n",
       "    }\n",
       "</style>\n",
       "<table border=\"1\" class=\"dataframe\">\n",
       "  <thead>\n",
       "    <tr style=\"text-align: right;\">\n",
       "      <th></th>\n",
       "      <th>x</th>\n",
       "      <th>y</th>\n",
       "      <th>ID</th>\n",
       "      <th>from</th>\n",
       "      <th>to</th>\n",
       "      <th>fill</th>\n",
       "      <th>hatch</th>\n",
       "      <th>lbl1</th>\n",
       "      <th>lbl2</th>\n",
       "      <th>lbl3</th>\n",
       "    </tr>\n",
       "  </thead>\n",
       "  <tbody>\n",
       "    <tr>\n",
       "      <th>0</th>\n",
       "      <td>204026.93</td>\n",
       "      <td>4973197.522</td>\n",
       "      <td>SI01</td>\n",
       "      <td>0.0</td>\n",
       "      <td>0.6</td>\n",
       "      <td>Riporto conforme</td>\n",
       "      <td>_</td>\n",
       "      <td>_</td>\n",
       "      <td>_</td>\n",
       "      <td>-1</td>\n",
       "    </tr>\n",
       "    <tr>\n",
       "      <th>1</th>\n",
       "      <td>204026.93</td>\n",
       "      <td>4973197.522</td>\n",
       "      <td>SI01</td>\n",
       "      <td>0.6</td>\n",
       "      <td>2.0</td>\n",
       "      <td>Assenza campione</td>\n",
       "      <td>_</td>\n",
       "      <td>_</td>\n",
       "      <td>_</td>\n",
       "      <td>-1</td>\n",
       "    </tr>\n",
       "    <tr>\n",
       "      <th>2</th>\n",
       "      <td>204026.93</td>\n",
       "      <td>4973197.522</td>\n",
       "      <td>SI01</td>\n",
       "      <td>2.0</td>\n",
       "      <td>3.5</td>\n",
       "      <td>Rifiuto</td>\n",
       "      <td>Pericoloso</td>\n",
       "      <td>IA</td>\n",
       "      <td>non rilevato</td>\n",
       "      <td>-1</td>\n",
       "    </tr>\n",
       "    <tr>\n",
       "      <th>3</th>\n",
       "      <td>204026.93</td>\n",
       "      <td>4973197.522</td>\n",
       "      <td>SI01</td>\n",
       "      <td>3.5</td>\n",
       "      <td>5.2</td>\n",
       "      <td>Assenza campione</td>\n",
       "      <td>_</td>\n",
       "      <td>_</td>\n",
       "      <td>_</td>\n",
       "      <td>-1</td>\n",
       "    </tr>\n",
       "    <tr>\n",
       "      <th>4</th>\n",
       "      <td>204026.93</td>\n",
       "      <td>4973197.522</td>\n",
       "      <td>SI01</td>\n",
       "      <td>5.2</td>\n",
       "      <td>6.2</td>\n",
       "      <td>Rifiuto</td>\n",
       "      <td>Pericoloso</td>\n",
       "      <td>NP</td>\n",
       "      <td>non rilevato</td>\n",
       "      <td>-1</td>\n",
       "    </tr>\n",
       "  </tbody>\n",
       "</table>\n",
       "</div>"
      ],
      "text/plain": [
       "           x            y    ID  from   to              fill       hatch lbl1  \\\n",
       "0  204026.93  4973197.522  SI01   0.0  0.6  Riporto conforme           _    _   \n",
       "1  204026.93  4973197.522  SI01   0.6  2.0  Assenza campione           _    _   \n",
       "2  204026.93  4973197.522  SI01   2.0  3.5           Rifiuto  Pericoloso   IA   \n",
       "3  204026.93  4973197.522  SI01   3.5  5.2  Assenza campione           _    _   \n",
       "4  204026.93  4973197.522  SI01   5.2  6.2           Rifiuto  Pericoloso   NP   \n",
       "\n",
       "           lbl2  lbl3  \n",
       "0             _    -1  \n",
       "1             _    -1  \n",
       "2  non rilevato    -1  \n",
       "3             _    -1  \n",
       "4  non rilevato    -1  "
      ]
     },
     "execution_count": 9,
     "metadata": {},
     "output_type": "execute_result"
    }
   ],
   "source": [
    "df=pd.read_csv(\"../../../data/example.csv\")\n",
    "df.head()"
   ]
  },
  {
   "cell_type": "markdown",
   "metadata": {},
   "source": [
    "Then, initiate a `mpl.StrataFrame` providing a `pandas.DataFrame` and specifying its `epsg` code. "
   ]
  },
  {
   "cell_type": "code",
   "execution_count": 10,
   "metadata": {},
   "outputs": [],
   "source": [
    "sf=StrataFrame(\n",
    "    df=df,\n",
    "    epsg=32633)"
   ]
  },
  {
   "cell_type": "markdown",
   "metadata": {},
   "source": [
    "## Define a `Legend`.\n",
    "\n",
    "This is done providing a dictionary containing pairs of (value-specification) the `fill_dict` parameter and for the `hatch_fill` parameter.\n",
    "\n",
    "The dictionary matches dataframe `fill` and `hatch` column values to either a *matplotlib encoded color* or *encoded hatch* string.\n",
    "\n",
    "The example uses the following dictionaries."
   ]
  },
  {
   "cell_type": "code",
   "execution_count": 11,
   "metadata": {},
   "outputs": [],
   "source": [
    "fill_dict={\n",
    "    'Terreno conforme': 'lightgreen',\n",
    "    'Riporto conforme': 'darkgreen',\n",
    "    'Riporto non conforme': 'orange',\n",
    "    'Rifiuto': 'red',\n",
    "    'Assenza campione': 'white'\n",
    "    }\n",
    "\n",
    "hatch_dict={\n",
    "    'Non pericoloso': '',\n",
    "    'Pericoloso': 'xxxxxxxxx',\n",
    "    '_': ''\n",
    "    }"
   ]
  },
  {
   "cell_type": "code",
   "execution_count": 12,
   "metadata": {},
   "outputs": [],
   "source": [
    "l=Legend(\n",
    "    fill_dict=fill_dict,\n",
    "    hatch_dict=hatch_dict\n",
    ")"
   ]
  },
  {
   "cell_type": "markdown",
   "metadata": {},
   "source": [
    "## Plot stand-alone `Column` objects\n",
    "\n",
    "Imagine we would need to inspect closely a column. It's not sure that we would be able to clearly do it on the map with all other elements (labels, basemap...). Unless exporting the map in pdf with a high resolution, open the local file... would take sooo long! Therefore `Column` object has its own `plot()` method.\n",
    "\n",
    "Let's plot the first three columns of the strataframe."
   ]
  },
  {
   "cell_type": "code",
   "execution_count": 13,
   "metadata": {},
   "outputs": [
    {
     "data": {
      "text/html": [
       "<div>\n",
       "<style scoped>\n",
       "    .dataframe tbody tr th:only-of-type {\n",
       "        vertical-align: middle;\n",
       "    }\n",
       "\n",
       "    .dataframe tbody tr th {\n",
       "        vertical-align: top;\n",
       "    }\n",
       "\n",
       "    .dataframe thead th {\n",
       "        text-align: right;\n",
       "    }\n",
       "</style>\n",
       "<table border=\"1\" class=\"dataframe\">\n",
       "  <thead>\n",
       "    <tr style=\"text-align: right;\">\n",
       "      <th></th>\n",
       "      <th>ID</th>\n",
       "      <th>x</th>\n",
       "      <th>y</th>\n",
       "      <th>fill_list</th>\n",
       "      <th>layers</th>\n",
       "      <th>hatch_list</th>\n",
       "      <th>lbl1_list</th>\n",
       "      <th>lbl2_list</th>\n",
       "      <th>lbl3_list</th>\n",
       "      <th>scale</th>\n",
       "      <th>geometry</th>\n",
       "    </tr>\n",
       "  </thead>\n",
       "  <tbody>\n",
       "    <tr>\n",
       "      <th>0</th>\n",
       "      <td>SI01</td>\n",
       "      <td>204026.930</td>\n",
       "      <td>4973197.522</td>\n",
       "      <td>[Riporto conforme, Assenza campione, Rifiuto, ...</td>\n",
       "      <td>[0.0, 0.6, 2.0, 3.5, 5.2, 6.2, 8.0, 9.0, 10.0]</td>\n",
       "      <td>[_, _, Pericoloso, _, Pericoloso, _, _, _, _]</td>\n",
       "      <td>[_, _, IA, _, NP, _, _, _, _]</td>\n",
       "      <td>[_, _, non rilevato, _, non rilevato, _, _, _, _]</td>\n",
       "      <td>[-1, -1, -1, -1, -1, -1, -1, -1, -1]</td>\n",
       "      <td>10.0</td>\n",
       "      <td>POINT (204026.930 4973197.522)</td>\n",
       "    </tr>\n",
       "    <tr>\n",
       "      <th>1</th>\n",
       "      <td>SI02</td>\n",
       "      <td>204008.591</td>\n",
       "      <td>4973148.940</td>\n",
       "      <td>[Riporto non conforme, Assenza campione, Rifiu...</td>\n",
       "      <td>[0.0, 2.0, 3.0, 6.0, 6.6, 8.5]</td>\n",
       "      <td>[Non pericoloso, _, Non pericoloso, _, Non per...</td>\n",
       "      <td>[NP, _, NP, _, NP, NP]</td>\n",
       "      <td>[non rilevato, _, non rilevato, _, non rilevat...</td>\n",
       "      <td>[-1, -1, -1, -1, -1, -1]</td>\n",
       "      <td>8.5</td>\n",
       "      <td>POINT (204008.591 4973148.940)</td>\n",
       "    </tr>\n",
       "    <tr>\n",
       "      <th>2</th>\n",
       "      <td>SI03</td>\n",
       "      <td>204008.734</td>\n",
       "      <td>4973122.605</td>\n",
       "      <td>[Assenza campione, Riporto non conforme, Assen...</td>\n",
       "      <td>[0.0, 1.5, 3.4, 5.0, 6.0, 8.4, 8.5, 9.0]</td>\n",
       "      <td>[_, Non pericoloso, _, Non pericoloso, Non per...</td>\n",
       "      <td>[_, NP, _, NP, NP, _, _, _]</td>\n",
       "      <td>[_, non rilevato, _, non rilevato, non rilevat...</td>\n",
       "      <td>[-1, -1, -1, -1, -1, -1, -1, -1]</td>\n",
       "      <td>9.0</td>\n",
       "      <td>POINT (204008.734 4973122.605)</td>\n",
       "    </tr>\n",
       "  </tbody>\n",
       "</table>\n",
       "</div>"
      ],
      "text/plain": [
       "     ID           x            y  \\\n",
       "0  SI01  204026.930  4973197.522   \n",
       "1  SI02  204008.591  4973148.940   \n",
       "2  SI03  204008.734  4973122.605   \n",
       "\n",
       "                                           fill_list  \\\n",
       "0  [Riporto conforme, Assenza campione, Rifiuto, ...   \n",
       "1  [Riporto non conforme, Assenza campione, Rifiu...   \n",
       "2  [Assenza campione, Riporto non conforme, Assen...   \n",
       "\n",
       "                                           layers  \\\n",
       "0  [0.0, 0.6, 2.0, 3.5, 5.2, 6.2, 8.0, 9.0, 10.0]   \n",
       "1                  [0.0, 2.0, 3.0, 6.0, 6.6, 8.5]   \n",
       "2        [0.0, 1.5, 3.4, 5.0, 6.0, 8.4, 8.5, 9.0]   \n",
       "\n",
       "                                          hatch_list  \\\n",
       "0      [_, _, Pericoloso, _, Pericoloso, _, _, _, _]   \n",
       "1  [Non pericoloso, _, Non pericoloso, _, Non per...   \n",
       "2  [_, Non pericoloso, _, Non pericoloso, Non per...   \n",
       "\n",
       "                       lbl1_list  \\\n",
       "0  [_, _, IA, _, NP, _, _, _, _]   \n",
       "1         [NP, _, NP, _, NP, NP]   \n",
       "2    [_, NP, _, NP, NP, _, _, _]   \n",
       "\n",
       "                                           lbl2_list  \\\n",
       "0  [_, _, non rilevato, _, non rilevato, _, _, _, _]   \n",
       "1  [non rilevato, _, non rilevato, _, non rilevat...   \n",
       "2  [_, non rilevato, _, non rilevato, non rilevat...   \n",
       "\n",
       "                              lbl3_list  scale                        geometry  \n",
       "0  [-1, -1, -1, -1, -1, -1, -1, -1, -1]   10.0  POINT (204026.930 4973197.522)  \n",
       "1              [-1, -1, -1, -1, -1, -1]    8.5  POINT (204008.591 4973148.940)  \n",
       "2      [-1, -1, -1, -1, -1, -1, -1, -1]    9.0  POINT (204008.734 4973122.605)  "
      ]
     },
     "execution_count": 13,
     "metadata": {},
     "output_type": "execute_result"
    }
   ],
   "source": [
    "sf.strataframe[:3]"
   ]
  },
  {
   "cell_type": "markdown",
   "metadata": {},
   "source": [
    "Plot the first three columns contained in the `StrataFrame`."
   ]
  },
  {
   "cell_type": "code",
   "execution_count": 14,
   "metadata": {},
   "outputs": [
    {
     "data": {
      "image/png": "[encoded data removed]",
      "text/plain": [
       "<Figure size 1000x600 with 8 Axes>"
      ]
     },
     "metadata": {
      "needs_background": "light"
     },
     "output_type": "display_data"
    }
   ],
   "source": [
    "#create figure\n",
    "f,axes=plt.subplots(1,4,figsize=(5,3),dpi=200,frameon=False)\n",
    "for ax,i in zip(axes,range(4)):\n",
    "    ax.axis('off')\n",
    "    #instantiate class\n",
    "    c=Column(\n",
    "        #figure\n",
    "        ax,l,\n",
    "        #id\n",
    "        sf.strataframe.loc[i,\"ID\"],\n",
    "        #coords\n",
    "        (0.9,0.9),\n",
    "        #scale\n",
    "        sf.strataframe.loc[i,\"scale\"],\n",
    "        3,\n",
    "        #stratigraphic data\n",
    "        sf.strataframe.loc[i,\"layers\"],\n",
    "        sf.strataframe.loc[i,\"fill_list\"],\n",
    "        sf.strataframe.loc[i,\"hatch_list\"],\n",
    "        #labels\n",
    "        sf.strataframe.loc[i,\"lbl1_list\"],\n",
    "        sf.strataframe.loc[i,\"lbl2_list\"],\n",
    "        sf.strataframe.loc[i,\"lbl3_list\"])\n",
    "    ax.set_title(c.id)\n",
    "    c.fill_column()\n",
    "    c.set_inset_params()\n",
    "    c.label_column(hardcoding=None)"
   ]
  }
 ],
 "metadata": {
  "interpreter": {
   "hash": "68ca85c6ae2e8c7794b34e2fe6cbedeedbc137e55c21e80b95061e15c2dcc2fe"
  },
  "kernelspec": {
   "display_name": "Python 3.7.11 64-bit ('geo': conda)",
   "language": "python",
   "name": "python3"
  },
  "language_info": {
   "codemirror_mode": {
    "name": "ipython",
    "version": 3
   },
   "file_extension": ".py",
   "mimetype": "text/x-python",
   "name": "python",
   "nbconvert_exporter": "python",
   "pygments_lexer": "ipython3",
   "version": "3.7.11"
  },
  "orig_nbformat": 4
 },
 "nbformat": 4,
 "nbformat_minor": 2
}
