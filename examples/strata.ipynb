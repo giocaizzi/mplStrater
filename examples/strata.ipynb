{
 "cells": [
  {
   "cell_type": "markdown",
   "metadata": {},
   "source": [
    "# Strata: stratigraphic data\n",
    "\n",
    "Strata is stratigraphic data.\n",
    "\n",
    "The main object of `strata` submodule is `mplStrater.strata.Column` which represents the single stratigraphic column.\n",
    "\n",
    "First, import all required packages."
   ]
  },
  {
   "cell_type": "code",
   "execution_count": 1,
   "metadata": {},
   "outputs": [],
   "source": [
    "%load_ext autoreload\n",
    "%autoreload 2\n",
    "from mplStrater import StratigraphicMap\n",
    "from mplStrater.strata import Column"
   ]
  },
  {
   "cell_type": "code",
   "execution_count": null,
   "metadata": {},
   "outputs": [],
   "source": []
  }
 ],
 "metadata": {
  "interpreter": {
   "hash": "68ca85c6ae2e8c7794b34e2fe6cbedeedbc137e55c21e80b95061e15c2dcc2fe"
  },
  "kernelspec": {
   "display_name": "Python 3.7.11 64-bit ('geo': conda)",
   "language": "python",
   "name": "python3"
  },
  "language_info": {
   "codemirror_mode": {
    "name": "ipython",
    "version": 3
   },
   "file_extension": ".py",
   "mimetype": "text/x-python",
   "name": "python",
   "nbconvert_exporter": "python",
   "pygments_lexer": "ipython3",
   "version": "3.7.11"
  },
  "orig_nbformat": 4
 },
 "nbformat": 4,
 "nbformat_minor": 2
}
