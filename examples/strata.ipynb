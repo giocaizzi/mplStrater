{
 "cells": [
  {
   "cell_type": "markdown",
   "metadata": {},
   "source": [
    "# Strata: stratigraphic data\n",
    "\n",
    "Strata is stratigraphic data.\n",
    "\n",
    "The main object of `strata` submodule is `mplStrater.strata.Column` which represents the single stratigraphic column.\n",
    "This example shows the structure of the class and how to use it.\n",
    "\n",
    "First, import all required packages."
   ]
  },
  {
   "cell_type": "code",
   "execution_count": 83,
   "metadata": {},
   "outputs": [
    {
     "name": "stdout",
     "output_type": "stream",
     "text": [
      "The autoreload extension is already loaded. To reload it, use:\n",
      "  %reload_ext autoreload\n"
     ]
    }
   ],
   "source": [
    "%load_ext autoreload\n",
    "%autoreload 2\n",
    "from mplStrater import StratigraphicMap\n",
    "from mplStrater.strata import Column,Legend\n",
    "\n",
    "import matplotlib.pyplot as plt"
   ]
  },
  {
   "cell_type": "markdown",
   "metadata": {},
   "source": [
    "We are going to exploid `StratigraphicMap` object to load the example dataframe, then we define a `Legend`."
   ]
  },
  {
   "cell_type": "code",
   "execution_count": 84,
   "metadata": {},
   "outputs": [],
   "source": [
    "map=StratigraphicMap(\"../data/example.csv\")\n",
    "l=Legend()"
   ]
  },
  {
   "cell_type": "markdown",
   "metadata": {},
   "source": []
  },
  {
   "cell_type": "code",
   "execution_count": 85,
   "metadata": {},
   "outputs": [
    {
     "data": {
      "image/png": "[encoded data removed]",
      "text/plain": [
       "<Figure size 100x600 with 2 Axes>"
      ]
     },
     "metadata": {
      "needs_background": "light"
     },
     "output_type": "display_data"
    }
   ],
   "source": [
    "#create figure\n",
    "f,ax=plt.subplots(1,1,figsize=(0.5,3),dpi=200,frameon=False)\n",
    "ax.axis('off'),\n",
    "#instantiate class\n",
    "c=Column(ax,l,\n",
    "    map.merged_df.loc[0,\"punto\"],\n",
    "    (0.9,0.9),\n",
    "    map.merged_df.loc[0,\"layers\"],\n",
    "    map.merged_df.loc[0,\"lista_matrici\"],\n",
    "    map.merged_df.loc[0,\"lista_pericolo\"],\n",
    "    #label 1\n",
    "    map.merged_df.loc[0,\"destino\"],\n",
    "    map.merged_df.loc[0,\"scala\"],\n",
    "    # label 2\n",
    "    map.merged_df.loc[0,\"amianto_qual\"],\n",
    "    map.merged_df.loc[0,\"amianto_quant\"],\n",
    "    #profondità\n",
    "    3\n",
    ")\n",
    "c.fill_column()\n",
    "c.set_inset_params()\n",
    "c.label_column(hardcoding=map.label_hardcoding)"
   ]
  }
 ],
 "metadata": {
  "interpreter": {
   "hash": "68ca85c6ae2e8c7794b34e2fe6cbedeedbc137e55c21e80b95061e15c2dcc2fe"
  },
  "kernelspec": {
   "display_name": "Python 3.7.11 64-bit ('geo': conda)",
   "language": "python",
   "name": "python3"
  },
  "language_info": {
   "codemirror_mode": {
    "name": "ipython",
    "version": 3
   },
   "file_extension": ".py",
   "mimetype": "text/x-python",
   "name": "python",
   "nbconvert_exporter": "python",
   "pygments_lexer": "ipython3",
   "version": "3.7.11"
  },
  "orig_nbformat": 4
 },
 "nbformat": 4,
 "nbformat_minor": 2
}
